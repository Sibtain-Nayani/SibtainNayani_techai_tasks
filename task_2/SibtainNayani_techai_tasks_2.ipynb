{
 "cells": [
  {
   "metadata": {},
   "cell_type": "markdown",
   "source": "# Importing Essential Libraries",
   "id": "de4d4798f9796bd9"
  },
  {
   "metadata": {
    "ExecuteTime": {
     "end_time": "2025-10-05T12:25:58.559632Z",
     "start_time": "2025-10-05T12:25:58.015118Z"
    }
   },
   "cell_type": "code",
   "source": [
    "import pandas as pd\n",
    "import numpy as np\n",
    "import seaborn as sns\n",
    "import matplotlib.pyplot as plt"
   ],
   "id": "fb0f91153cca0db",
   "outputs": [],
   "execution_count": 3
  },
  {
   "metadata": {
    "ExecuteTime": {
     "end_time": "2025-10-05T14:57:05.514758Z",
     "start_time": "2025-10-05T14:57:05.495942Z"
    }
   },
   "cell_type": "markdown",
   "source": "---",
   "id": "430d249b47bb5f23"
  },
  {
   "metadata": {},
   "cell_type": "markdown",
   "source": "# Data inspection",
   "id": "8d655fc2a1b93761"
  },
  {
   "metadata": {
    "ExecuteTime": {
     "end_time": "2025-10-05T12:25:58.930469Z",
     "start_time": "2025-10-05T12:25:58.677719Z"
    }
   },
   "cell_type": "code",
   "source": "df = pd.read_csv(\"Meteorite Landing - Meteorite-Landings.csv\")",
   "id": "2c0b7b71c68bea7e",
   "outputs": [],
   "execution_count": 4
  },
  {
   "metadata": {
    "ExecuteTime": {
     "end_time": "2025-10-05T12:25:59.442300Z",
     "start_time": "2025-10-05T12:25:59.385627Z"
    }
   },
   "cell_type": "code",
   "source": "df.head()",
   "id": "8405caefec1a6150",
   "outputs": [
    {
     "data": {
      "text/plain": [
       "       Name   ID NameType Classification                       Mass  Fall  \\\n",
       "0    Aachen    1    Valid             L5      Quantity[21, \"Grams\"]  Fell   \n",
       "1    Aarhus    2    Valid             H6     Quantity[720, \"Grams\"]  Fell   \n",
       "2      Abee    6    Valid            EH4  Quantity[107000, \"Grams\"]  Fell   \n",
       "3  Acapulco   10    Valid    Acapulcoite    Quantity[1914, \"Grams\"]  Fell   \n",
       "4   Achiras  370    Valid             L6     Quantity[780, \"Grams\"]  Fell   \n",
       "\n",
       "                                           Year  \\\n",
       "0  DateObject[{1880}, \"Year\", \"Gregorian\", -5.]   \n",
       "1  DateObject[{1951}, \"Year\", \"Gregorian\", -5.]   \n",
       "2  DateObject[{1952}, \"Year\", \"Gregorian\", -5.]   \n",
       "3  DateObject[{1976}, \"Year\", \"Gregorian\", -5.]   \n",
       "4  DateObject[{1902}, \"Year\", \"Gregorian\", -5.]   \n",
       "\n",
       "                         Coordinates  \n",
       "0     GeoPosition[{50.775, 6.08333}]  \n",
       "1  GeoPosition[{56.18333, 10.23333}]  \n",
       "2     GeoPosition[{54.21667, -113.}]  \n",
       "3     GeoPosition[{16.88333, -99.9}]  \n",
       "4   GeoPosition[{-33.16667, -64.95}]  "
      ],
      "text/html": [
       "<div>\n",
       "<style scoped>\n",
       "    .dataframe tbody tr th:only-of-type {\n",
       "        vertical-align: middle;\n",
       "    }\n",
       "\n",
       "    .dataframe tbody tr th {\n",
       "        vertical-align: top;\n",
       "    }\n",
       "\n",
       "    .dataframe thead th {\n",
       "        text-align: right;\n",
       "    }\n",
       "</style>\n",
       "<table border=\"1\" class=\"dataframe\">\n",
       "  <thead>\n",
       "    <tr style=\"text-align: right;\">\n",
       "      <th></th>\n",
       "      <th>Name</th>\n",
       "      <th>ID</th>\n",
       "      <th>NameType</th>\n",
       "      <th>Classification</th>\n",
       "      <th>Mass</th>\n",
       "      <th>Fall</th>\n",
       "      <th>Year</th>\n",
       "      <th>Coordinates</th>\n",
       "    </tr>\n",
       "  </thead>\n",
       "  <tbody>\n",
       "    <tr>\n",
       "      <th>0</th>\n",
       "      <td>Aachen</td>\n",
       "      <td>1</td>\n",
       "      <td>Valid</td>\n",
       "      <td>L5</td>\n",
       "      <td>Quantity[21, \"Grams\"]</td>\n",
       "      <td>Fell</td>\n",
       "      <td>DateObject[{1880}, \"Year\", \"Gregorian\", -5.]</td>\n",
       "      <td>GeoPosition[{50.775, 6.08333}]</td>\n",
       "    </tr>\n",
       "    <tr>\n",
       "      <th>1</th>\n",
       "      <td>Aarhus</td>\n",
       "      <td>2</td>\n",
       "      <td>Valid</td>\n",
       "      <td>H6</td>\n",
       "      <td>Quantity[720, \"Grams\"]</td>\n",
       "      <td>Fell</td>\n",
       "      <td>DateObject[{1951}, \"Year\", \"Gregorian\", -5.]</td>\n",
       "      <td>GeoPosition[{56.18333, 10.23333}]</td>\n",
       "    </tr>\n",
       "    <tr>\n",
       "      <th>2</th>\n",
       "      <td>Abee</td>\n",
       "      <td>6</td>\n",
       "      <td>Valid</td>\n",
       "      <td>EH4</td>\n",
       "      <td>Quantity[107000, \"Grams\"]</td>\n",
       "      <td>Fell</td>\n",
       "      <td>DateObject[{1952}, \"Year\", \"Gregorian\", -5.]</td>\n",
       "      <td>GeoPosition[{54.21667, -113.}]</td>\n",
       "    </tr>\n",
       "    <tr>\n",
       "      <th>3</th>\n",
       "      <td>Acapulco</td>\n",
       "      <td>10</td>\n",
       "      <td>Valid</td>\n",
       "      <td>Acapulcoite</td>\n",
       "      <td>Quantity[1914, \"Grams\"]</td>\n",
       "      <td>Fell</td>\n",
       "      <td>DateObject[{1976}, \"Year\", \"Gregorian\", -5.]</td>\n",
       "      <td>GeoPosition[{16.88333, -99.9}]</td>\n",
       "    </tr>\n",
       "    <tr>\n",
       "      <th>4</th>\n",
       "      <td>Achiras</td>\n",
       "      <td>370</td>\n",
       "      <td>Valid</td>\n",
       "      <td>L6</td>\n",
       "      <td>Quantity[780, \"Grams\"]</td>\n",
       "      <td>Fell</td>\n",
       "      <td>DateObject[{1902}, \"Year\", \"Gregorian\", -5.]</td>\n",
       "      <td>GeoPosition[{-33.16667, -64.95}]</td>\n",
       "    </tr>\n",
       "  </tbody>\n",
       "</table>\n",
       "</div>"
      ]
     },
     "execution_count": 5,
     "metadata": {},
     "output_type": "execute_result"
    }
   ],
   "execution_count": 5
  },
  {
   "metadata": {
    "ExecuteTime": {
     "end_time": "2025-10-05T12:25:59.835164Z",
     "start_time": "2025-10-05T12:25:59.705156Z"
    }
   },
   "cell_type": "code",
   "outputs": [],
   "execution_count": 6,
   "source": [
    "df[\"MassWei\"] = df['Mass'].str.extract(r'\\[(\\d+),')\n",
    "# df[\"MassSym\"] = df[\"Mass\"].str.extract(r'\\[\\d+, \"(\\w+)\"')\n",
    "\n",
    "df[\"MassWei\"] =pd.to_numeric(df[\"MassWei\"])\n",
    "df = df.drop(columns=\"Mass\")"
   ],
   "id": "b5561f4816d7876c"
  },
  {
   "metadata": {},
   "cell_type": "markdown",
   "source": [
    "The Mass is given in Quantity[21, \"Grams\"] format\n",
    "> Therefore extracting the 21 from the data to create a Seperate column 'MassWei'"
   ],
   "id": "ef07c91f61c8a7b5"
  },
  {
   "metadata": {
    "ExecuteTime": {
     "end_time": "2025-10-05T12:26:00.362839Z",
     "start_time": "2025-10-05T12:26:00.158501Z"
    }
   },
   "cell_type": "code",
   "source": [
    "df[\"YrNo\"] = df['Year'].str.extract(r'\\[{(\\d+)},')\n",
    "df[\"YrNo\"] =pd.to_numeric(df[\"YrNo\"])\n",
    "df = df.drop(columns=\"Year\")\n"
   ],
   "id": "955a8a7fd5bd90c0",
   "outputs": [],
   "execution_count": 7
  },
  {
   "metadata": {},
   "cell_type": "markdown",
   "source": [
    "The Year is given in DateObject [{1880}, \"Year\", \"Gregorian\", -5.] format\n",
    "> Therefore extracting the 1880 from the data to create a Seperate column 'YrNo'"
   ],
   "id": "c6b5008ce502f36f"
  },
  {
   "metadata": {
    "ExecuteTime": {
     "end_time": "2025-10-05T12:26:00.824345Z",
     "start_time": "2025-10-05T12:26:00.596703Z"
    }
   },
   "cell_type": "code",
   "source": [
    "LatLong = df[\"Coordinates\"].str.extract(r'GeoPosition\\[\\{(-?\\d+\\.?\\d*),\\s*(-?\\d+\\.?\\d*)\\}\\]')\n",
    "df[\"lat\"],df[\"long\"] = LatLong[0],LatLong[1]\n",
    "df[\"lat\"],df[\"long\"] = (pd.to_numeric(df[\"lat\"]),pd.to_numeric(df[\"long\"]))\n",
    "\n",
    "df= df.drop(columns=\"Coordinates\")"
   ],
   "id": "405cc9b865f31b7b",
   "outputs": [],
   "execution_count": 8
  },
  {
   "metadata": {},
   "cell_type": "markdown",
   "source": [
    "The Coordinates are given in  GeoPosition[{50.775, 6.08333}] format\n",
    "> Therefore extracting the 50.775(latitude) and  6.08333(longitude) from the data to create a Seperate column 'lat' and 'long'"
   ],
   "id": "45453a631e224506"
  },
  {
   "metadata": {
    "ExecuteTime": {
     "end_time": "2025-10-05T12:26:00.853987Z",
     "start_time": "2025-10-05T12:26:00.846781Z"
    }
   },
   "cell_type": "code",
   "source": "df.columns",
   "id": "bff931cfc8205809",
   "outputs": [
    {
     "data": {
      "text/plain": [
       "Index(['Name', 'ID', 'NameType', 'Classification', 'Fall', 'MassWei', 'YrNo',\n",
       "       'lat', 'long'],\n",
       "      dtype='object')"
      ]
     },
     "execution_count": 9,
     "metadata": {},
     "output_type": "execute_result"
    }
   ],
   "execution_count": 9
  },
  {
   "metadata": {
    "ExecuteTime": {
     "end_time": "2025-10-05T12:26:00.984485Z",
     "start_time": "2025-10-05T12:26:00.948860Z"
    }
   },
   "cell_type": "code",
   "source": "df.info()",
   "id": "3744b91db24f302",
   "outputs": [
    {
     "name": "stdout",
     "output_type": "stream",
     "text": [
      "<class 'pandas.core.frame.DataFrame'>\n",
      "RangeIndex: 45716 entries, 0 to 45715\n",
      "Data columns (total 9 columns):\n",
      " #   Column          Non-Null Count  Dtype  \n",
      "---  ------          --------------  -----  \n",
      " 0   Name            45716 non-null  object \n",
      " 1   ID              45716 non-null  int64  \n",
      " 2   NameType        45716 non-null  object \n",
      " 3   Classification  45716 non-null  object \n",
      " 4   Fall            45716 non-null  object \n",
      " 5   MassWei         13059 non-null  float64\n",
      " 6   YrNo            45424 non-null  float64\n",
      " 7   lat             32187 non-null  float64\n",
      " 8   long            32187 non-null  float64\n",
      "dtypes: float64(4), int64(1), object(4)\n",
      "memory usage: 3.1+ MB\n"
     ]
    }
   ],
   "execution_count": 10
  },
  {
   "metadata": {
    "ExecuteTime": {
     "end_time": "2025-10-05T12:26:01.347709Z",
     "start_time": "2025-10-05T12:26:01.160156Z"
    }
   },
   "cell_type": "code",
   "source": "df.describe(include=\"all\")",
   "id": "359f9da1e8fdfd4d",
   "outputs": [
    {
     "data": {
      "text/plain": [
       "          Name            ID NameType Classification   Fall       MassWei  \\\n",
       "count    45716  45716.000000    45716          45716  45716  1.305900e+04   \n",
       "unique   45716           NaN        2            466      2           NaN   \n",
       "top     Aachen           NaN    Valid             L6  Found           NaN   \n",
       "freq         1           NaN    45641           8285  44609           NaN   \n",
       "mean       NaN  26889.735104      NaN            NaN    NaN  4.605459e+04   \n",
       "std        NaN  16860.683030      NaN            NaN    NaN  1.073603e+06   \n",
       "min        NaN      1.000000      NaN            NaN    NaN  0.000000e+00   \n",
       "25%        NaN  12688.750000      NaN            NaN    NaN  9.300000e+01   \n",
       "50%        NaN  24261.500000      NaN            NaN    NaN  3.530000e+02   \n",
       "75%        NaN  40656.750000      NaN            NaN    NaN  1.762000e+03   \n",
       "max        NaN  57458.000000      NaN            NaN    NaN  6.000000e+07   \n",
       "\n",
       "                YrNo           lat          long  \n",
       "count   45424.000000  32187.000000  32187.000000  \n",
       "unique           NaN           NaN           NaN  \n",
       "top              NaN           NaN           NaN  \n",
       "freq             NaN           NaN           NaN  \n",
       "mean     1991.826413    -46.675559     72.854090  \n",
       "std        25.047805     47.049897     83.055587  \n",
       "min       860.000000    -87.366670   -165.433330  \n",
       "25%      1987.000000    -79.683330     26.000000  \n",
       "50%      1998.000000    -72.000000     56.646250  \n",
       "75%      2003.000000     18.536165    159.386110  \n",
       "max      2013.000000     81.166670    178.200000  "
      ],
      "text/html": [
       "<div>\n",
       "<style scoped>\n",
       "    .dataframe tbody tr th:only-of-type {\n",
       "        vertical-align: middle;\n",
       "    }\n",
       "\n",
       "    .dataframe tbody tr th {\n",
       "        vertical-align: top;\n",
       "    }\n",
       "\n",
       "    .dataframe thead th {\n",
       "        text-align: right;\n",
       "    }\n",
       "</style>\n",
       "<table border=\"1\" class=\"dataframe\">\n",
       "  <thead>\n",
       "    <tr style=\"text-align: right;\">\n",
       "      <th></th>\n",
       "      <th>Name</th>\n",
       "      <th>ID</th>\n",
       "      <th>NameType</th>\n",
       "      <th>Classification</th>\n",
       "      <th>Fall</th>\n",
       "      <th>MassWei</th>\n",
       "      <th>YrNo</th>\n",
       "      <th>lat</th>\n",
       "      <th>long</th>\n",
       "    </tr>\n",
       "  </thead>\n",
       "  <tbody>\n",
       "    <tr>\n",
       "      <th>count</th>\n",
       "      <td>45716</td>\n",
       "      <td>45716.000000</td>\n",
       "      <td>45716</td>\n",
       "      <td>45716</td>\n",
       "      <td>45716</td>\n",
       "      <td>1.305900e+04</td>\n",
       "      <td>45424.000000</td>\n",
       "      <td>32187.000000</td>\n",
       "      <td>32187.000000</td>\n",
       "    </tr>\n",
       "    <tr>\n",
       "      <th>unique</th>\n",
       "      <td>45716</td>\n",
       "      <td>NaN</td>\n",
       "      <td>2</td>\n",
       "      <td>466</td>\n",
       "      <td>2</td>\n",
       "      <td>NaN</td>\n",
       "      <td>NaN</td>\n",
       "      <td>NaN</td>\n",
       "      <td>NaN</td>\n",
       "    </tr>\n",
       "    <tr>\n",
       "      <th>top</th>\n",
       "      <td>Aachen</td>\n",
       "      <td>NaN</td>\n",
       "      <td>Valid</td>\n",
       "      <td>L6</td>\n",
       "      <td>Found</td>\n",
       "      <td>NaN</td>\n",
       "      <td>NaN</td>\n",
       "      <td>NaN</td>\n",
       "      <td>NaN</td>\n",
       "    </tr>\n",
       "    <tr>\n",
       "      <th>freq</th>\n",
       "      <td>1</td>\n",
       "      <td>NaN</td>\n",
       "      <td>45641</td>\n",
       "      <td>8285</td>\n",
       "      <td>44609</td>\n",
       "      <td>NaN</td>\n",
       "      <td>NaN</td>\n",
       "      <td>NaN</td>\n",
       "      <td>NaN</td>\n",
       "    </tr>\n",
       "    <tr>\n",
       "      <th>mean</th>\n",
       "      <td>NaN</td>\n",
       "      <td>26889.735104</td>\n",
       "      <td>NaN</td>\n",
       "      <td>NaN</td>\n",
       "      <td>NaN</td>\n",
       "      <td>4.605459e+04</td>\n",
       "      <td>1991.826413</td>\n",
       "      <td>-46.675559</td>\n",
       "      <td>72.854090</td>\n",
       "    </tr>\n",
       "    <tr>\n",
       "      <th>std</th>\n",
       "      <td>NaN</td>\n",
       "      <td>16860.683030</td>\n",
       "      <td>NaN</td>\n",
       "      <td>NaN</td>\n",
       "      <td>NaN</td>\n",
       "      <td>1.073603e+06</td>\n",
       "      <td>25.047805</td>\n",
       "      <td>47.049897</td>\n",
       "      <td>83.055587</td>\n",
       "    </tr>\n",
       "    <tr>\n",
       "      <th>min</th>\n",
       "      <td>NaN</td>\n",
       "      <td>1.000000</td>\n",
       "      <td>NaN</td>\n",
       "      <td>NaN</td>\n",
       "      <td>NaN</td>\n",
       "      <td>0.000000e+00</td>\n",
       "      <td>860.000000</td>\n",
       "      <td>-87.366670</td>\n",
       "      <td>-165.433330</td>\n",
       "    </tr>\n",
       "    <tr>\n",
       "      <th>25%</th>\n",
       "      <td>NaN</td>\n",
       "      <td>12688.750000</td>\n",
       "      <td>NaN</td>\n",
       "      <td>NaN</td>\n",
       "      <td>NaN</td>\n",
       "      <td>9.300000e+01</td>\n",
       "      <td>1987.000000</td>\n",
       "      <td>-79.683330</td>\n",
       "      <td>26.000000</td>\n",
       "    </tr>\n",
       "    <tr>\n",
       "      <th>50%</th>\n",
       "      <td>NaN</td>\n",
       "      <td>24261.500000</td>\n",
       "      <td>NaN</td>\n",
       "      <td>NaN</td>\n",
       "      <td>NaN</td>\n",
       "      <td>3.530000e+02</td>\n",
       "      <td>1998.000000</td>\n",
       "      <td>-72.000000</td>\n",
       "      <td>56.646250</td>\n",
       "    </tr>\n",
       "    <tr>\n",
       "      <th>75%</th>\n",
       "      <td>NaN</td>\n",
       "      <td>40656.750000</td>\n",
       "      <td>NaN</td>\n",
       "      <td>NaN</td>\n",
       "      <td>NaN</td>\n",
       "      <td>1.762000e+03</td>\n",
       "      <td>2003.000000</td>\n",
       "      <td>18.536165</td>\n",
       "      <td>159.386110</td>\n",
       "    </tr>\n",
       "    <tr>\n",
       "      <th>max</th>\n",
       "      <td>NaN</td>\n",
       "      <td>57458.000000</td>\n",
       "      <td>NaN</td>\n",
       "      <td>NaN</td>\n",
       "      <td>NaN</td>\n",
       "      <td>6.000000e+07</td>\n",
       "      <td>2013.000000</td>\n",
       "      <td>81.166670</td>\n",
       "      <td>178.200000</td>\n",
       "    </tr>\n",
       "  </tbody>\n",
       "</table>\n",
       "</div>"
      ]
     },
     "execution_count": 11,
     "metadata": {},
     "output_type": "execute_result"
    }
   ],
   "execution_count": 11
  },
  {
   "metadata": {
    "ExecuteTime": {
     "end_time": "2025-10-05T12:26:01.547837Z",
     "start_time": "2025-10-05T12:26:01.512554Z"
    }
   },
   "cell_type": "code",
   "source": "df.isnull().sum()",
   "id": "589a8363f76d8811",
   "outputs": [
    {
     "data": {
      "text/plain": [
       "Name                  0\n",
       "ID                    0\n",
       "NameType              0\n",
       "Classification        0\n",
       "Fall                  0\n",
       "MassWei           32657\n",
       "YrNo                292\n",
       "lat               13529\n",
       "long              13529\n",
       "dtype: int64"
      ]
     },
     "execution_count": 12,
     "metadata": {},
     "output_type": "execute_result"
    }
   ],
   "execution_count": 12
  },
  {
   "metadata": {
    "ExecuteTime": {
     "end_time": "2025-10-05T12:26:02.347878Z",
     "start_time": "2025-10-05T12:26:02.318784Z"
    }
   },
   "cell_type": "code",
   "source": "df.head(15)",
   "id": "6d1390d8cdeaa1fa",
   "outputs": [
    {
     "data": {
      "text/plain": [
       "                   Name   ID NameType Classification  Fall   MassWei    YrNo  \\\n",
       "0                Aachen    1    Valid             L5  Fell      21.0  1880.0   \n",
       "1                Aarhus    2    Valid             H6  Fell     720.0  1951.0   \n",
       "2                  Abee    6    Valid            EH4  Fell  107000.0  1952.0   \n",
       "3              Acapulco   10    Valid    Acapulcoite  Fell    1914.0  1976.0   \n",
       "4               Achiras  370    Valid             L6  Fell     780.0  1902.0   \n",
       "5              Adhi Kot  379    Valid            EH4  Fell    4239.0  1919.0   \n",
       "6   Adzhi-Bogdo (stone)  390    Valid          LL3-6  Fell     910.0  1949.0   \n",
       "7                  Agen  392    Valid             H5  Fell   30000.0  1814.0   \n",
       "8                Aguada  398    Valid             L6  Fell    1620.0  1930.0   \n",
       "9         Aguila Blanca  417    Valid              L  Fell    1440.0  1920.0   \n",
       "10     Aioun el Atrouss  423    Valid   Diogenite-pm  Fell    1000.0  1974.0   \n",
       "11                  Aïr  424    Valid             L6  Fell   24000.0  1925.0   \n",
       "12      Aire-sur-la-Lys  425    Valid        Unknown  Fell       NaN  1769.0   \n",
       "13                Akaba  426    Valid             L6  Fell     779.0  1949.0   \n",
       "14             Akbarpur  427    Valid             H4  Fell    1800.0  1838.0   \n",
       "\n",
       "         lat       long  \n",
       "0   50.77500    6.08333  \n",
       "1   56.18333   10.23333  \n",
       "2   54.21667 -113.00000  \n",
       "3   16.88333  -99.90000  \n",
       "4  -33.16667  -64.95000  \n",
       "5   32.10000   71.80000  \n",
       "6   44.83333   95.16667  \n",
       "7   44.21667    0.61667  \n",
       "8  -31.60000  -65.23333  \n",
       "9  -30.86667  -64.55000  \n",
       "10  16.39806   -9.57028  \n",
       "11  19.08333    8.38333  \n",
       "12  50.66667    2.33333  \n",
       "13  29.51667   35.05000  \n",
       "14  29.71667   77.95000  "
      ],
      "text/html": [
       "<div>\n",
       "<style scoped>\n",
       "    .dataframe tbody tr th:only-of-type {\n",
       "        vertical-align: middle;\n",
       "    }\n",
       "\n",
       "    .dataframe tbody tr th {\n",
       "        vertical-align: top;\n",
       "    }\n",
       "\n",
       "    .dataframe thead th {\n",
       "        text-align: right;\n",
       "    }\n",
       "</style>\n",
       "<table border=\"1\" class=\"dataframe\">\n",
       "  <thead>\n",
       "    <tr style=\"text-align: right;\">\n",
       "      <th></th>\n",
       "      <th>Name</th>\n",
       "      <th>ID</th>\n",
       "      <th>NameType</th>\n",
       "      <th>Classification</th>\n",
       "      <th>Fall</th>\n",
       "      <th>MassWei</th>\n",
       "      <th>YrNo</th>\n",
       "      <th>lat</th>\n",
       "      <th>long</th>\n",
       "    </tr>\n",
       "  </thead>\n",
       "  <tbody>\n",
       "    <tr>\n",
       "      <th>0</th>\n",
       "      <td>Aachen</td>\n",
       "      <td>1</td>\n",
       "      <td>Valid</td>\n",
       "      <td>L5</td>\n",
       "      <td>Fell</td>\n",
       "      <td>21.0</td>\n",
       "      <td>1880.0</td>\n",
       "      <td>50.77500</td>\n",
       "      <td>6.08333</td>\n",
       "    </tr>\n",
       "    <tr>\n",
       "      <th>1</th>\n",
       "      <td>Aarhus</td>\n",
       "      <td>2</td>\n",
       "      <td>Valid</td>\n",
       "      <td>H6</td>\n",
       "      <td>Fell</td>\n",
       "      <td>720.0</td>\n",
       "      <td>1951.0</td>\n",
       "      <td>56.18333</td>\n",
       "      <td>10.23333</td>\n",
       "    </tr>\n",
       "    <tr>\n",
       "      <th>2</th>\n",
       "      <td>Abee</td>\n",
       "      <td>6</td>\n",
       "      <td>Valid</td>\n",
       "      <td>EH4</td>\n",
       "      <td>Fell</td>\n",
       "      <td>107000.0</td>\n",
       "      <td>1952.0</td>\n",
       "      <td>54.21667</td>\n",
       "      <td>-113.00000</td>\n",
       "    </tr>\n",
       "    <tr>\n",
       "      <th>3</th>\n",
       "      <td>Acapulco</td>\n",
       "      <td>10</td>\n",
       "      <td>Valid</td>\n",
       "      <td>Acapulcoite</td>\n",
       "      <td>Fell</td>\n",
       "      <td>1914.0</td>\n",
       "      <td>1976.0</td>\n",
       "      <td>16.88333</td>\n",
       "      <td>-99.90000</td>\n",
       "    </tr>\n",
       "    <tr>\n",
       "      <th>4</th>\n",
       "      <td>Achiras</td>\n",
       "      <td>370</td>\n",
       "      <td>Valid</td>\n",
       "      <td>L6</td>\n",
       "      <td>Fell</td>\n",
       "      <td>780.0</td>\n",
       "      <td>1902.0</td>\n",
       "      <td>-33.16667</td>\n",
       "      <td>-64.95000</td>\n",
       "    </tr>\n",
       "    <tr>\n",
       "      <th>5</th>\n",
       "      <td>Adhi Kot</td>\n",
       "      <td>379</td>\n",
       "      <td>Valid</td>\n",
       "      <td>EH4</td>\n",
       "      <td>Fell</td>\n",
       "      <td>4239.0</td>\n",
       "      <td>1919.0</td>\n",
       "      <td>32.10000</td>\n",
       "      <td>71.80000</td>\n",
       "    </tr>\n",
       "    <tr>\n",
       "      <th>6</th>\n",
       "      <td>Adzhi-Bogdo (stone)</td>\n",
       "      <td>390</td>\n",
       "      <td>Valid</td>\n",
       "      <td>LL3-6</td>\n",
       "      <td>Fell</td>\n",
       "      <td>910.0</td>\n",
       "      <td>1949.0</td>\n",
       "      <td>44.83333</td>\n",
       "      <td>95.16667</td>\n",
       "    </tr>\n",
       "    <tr>\n",
       "      <th>7</th>\n",
       "      <td>Agen</td>\n",
       "      <td>392</td>\n",
       "      <td>Valid</td>\n",
       "      <td>H5</td>\n",
       "      <td>Fell</td>\n",
       "      <td>30000.0</td>\n",
       "      <td>1814.0</td>\n",
       "      <td>44.21667</td>\n",
       "      <td>0.61667</td>\n",
       "    </tr>\n",
       "    <tr>\n",
       "      <th>8</th>\n",
       "      <td>Aguada</td>\n",
       "      <td>398</td>\n",
       "      <td>Valid</td>\n",
       "      <td>L6</td>\n",
       "      <td>Fell</td>\n",
       "      <td>1620.0</td>\n",
       "      <td>1930.0</td>\n",
       "      <td>-31.60000</td>\n",
       "      <td>-65.23333</td>\n",
       "    </tr>\n",
       "    <tr>\n",
       "      <th>9</th>\n",
       "      <td>Aguila Blanca</td>\n",
       "      <td>417</td>\n",
       "      <td>Valid</td>\n",
       "      <td>L</td>\n",
       "      <td>Fell</td>\n",
       "      <td>1440.0</td>\n",
       "      <td>1920.0</td>\n",
       "      <td>-30.86667</td>\n",
       "      <td>-64.55000</td>\n",
       "    </tr>\n",
       "    <tr>\n",
       "      <th>10</th>\n",
       "      <td>Aioun el Atrouss</td>\n",
       "      <td>423</td>\n",
       "      <td>Valid</td>\n",
       "      <td>Diogenite-pm</td>\n",
       "      <td>Fell</td>\n",
       "      <td>1000.0</td>\n",
       "      <td>1974.0</td>\n",
       "      <td>16.39806</td>\n",
       "      <td>-9.57028</td>\n",
       "    </tr>\n",
       "    <tr>\n",
       "      <th>11</th>\n",
       "      <td>Aïr</td>\n",
       "      <td>424</td>\n",
       "      <td>Valid</td>\n",
       "      <td>L6</td>\n",
       "      <td>Fell</td>\n",
       "      <td>24000.0</td>\n",
       "      <td>1925.0</td>\n",
       "      <td>19.08333</td>\n",
       "      <td>8.38333</td>\n",
       "    </tr>\n",
       "    <tr>\n",
       "      <th>12</th>\n",
       "      <td>Aire-sur-la-Lys</td>\n",
       "      <td>425</td>\n",
       "      <td>Valid</td>\n",
       "      <td>Unknown</td>\n",
       "      <td>Fell</td>\n",
       "      <td>NaN</td>\n",
       "      <td>1769.0</td>\n",
       "      <td>50.66667</td>\n",
       "      <td>2.33333</td>\n",
       "    </tr>\n",
       "    <tr>\n",
       "      <th>13</th>\n",
       "      <td>Akaba</td>\n",
       "      <td>426</td>\n",
       "      <td>Valid</td>\n",
       "      <td>L6</td>\n",
       "      <td>Fell</td>\n",
       "      <td>779.0</td>\n",
       "      <td>1949.0</td>\n",
       "      <td>29.51667</td>\n",
       "      <td>35.05000</td>\n",
       "    </tr>\n",
       "    <tr>\n",
       "      <th>14</th>\n",
       "      <td>Akbarpur</td>\n",
       "      <td>427</td>\n",
       "      <td>Valid</td>\n",
       "      <td>H4</td>\n",
       "      <td>Fell</td>\n",
       "      <td>1800.0</td>\n",
       "      <td>1838.0</td>\n",
       "      <td>29.71667</td>\n",
       "      <td>77.95000</td>\n",
       "    </tr>\n",
       "  </tbody>\n",
       "</table>\n",
       "</div>"
      ]
     },
     "execution_count": 13,
     "metadata": {},
     "output_type": "execute_result"
    }
   ],
   "execution_count": 13
  },
  {
   "metadata": {
    "ExecuteTime": {
     "end_time": "2025-10-05T12:26:05.208275Z",
     "start_time": "2025-10-05T12:26:05.169399Z"
    }
   },
   "cell_type": "code",
   "source": "df.info()",
   "id": "a714e2b469cb988a",
   "outputs": [
    {
     "name": "stdout",
     "output_type": "stream",
     "text": [
      "<class 'pandas.core.frame.DataFrame'>\n",
      "RangeIndex: 45716 entries, 0 to 45715\n",
      "Data columns (total 9 columns):\n",
      " #   Column          Non-Null Count  Dtype  \n",
      "---  ------          --------------  -----  \n",
      " 0   Name            45716 non-null  object \n",
      " 1   ID              45716 non-null  int64  \n",
      " 2   NameType        45716 non-null  object \n",
      " 3   Classification  45716 non-null  object \n",
      " 4   Fall            45716 non-null  object \n",
      " 5   MassWei         13059 non-null  float64\n",
      " 6   YrNo            45424 non-null  float64\n",
      " 7   lat             32187 non-null  float64\n",
      " 8   long            32187 non-null  float64\n",
      "dtypes: float64(4), int64(1), object(4)\n",
      "memory usage: 3.1+ MB\n"
     ]
    }
   ],
   "execution_count": 14
  },
  {
   "metadata": {
    "ExecuteTime": {
     "end_time": "2025-10-05T14:58:02.754144Z",
     "start_time": "2025-10-05T14:58:02.741577Z"
    }
   },
   "cell_type": "markdown",
   "source": "---",
   "id": "e547376e123e619e"
  },
  {
   "metadata": {},
   "cell_type": "markdown",
   "source": "# Data Handling",
   "id": "491a894ef9e6c885"
  },
  {
   "metadata": {
    "ExecuteTime": {
     "end_time": "2025-10-05T12:26:05.748354Z",
     "start_time": "2025-10-05T12:26:05.733232Z"
    }
   },
   "cell_type": "code",
   "source": "mod_df = df",
   "id": "4fe07aea18220193",
   "outputs": [],
   "execution_count": 15
  },
  {
   "metadata": {
    "ExecuteTime": {
     "end_time": "2025-10-05T12:26:06.236018Z",
     "start_time": "2025-10-05T12:26:06.111375Z"
    }
   },
   "cell_type": "code",
   "source": [
    "mod_df = mod_df.drop_duplicates()\n",
    "mod_df.info()"
   ],
   "id": "1bbc1bfab45147eb",
   "outputs": [
    {
     "name": "stdout",
     "output_type": "stream",
     "text": [
      "<class 'pandas.core.frame.DataFrame'>\n",
      "RangeIndex: 45716 entries, 0 to 45715\n",
      "Data columns (total 9 columns):\n",
      " #   Column          Non-Null Count  Dtype  \n",
      "---  ------          --------------  -----  \n",
      " 0   Name            45716 non-null  object \n",
      " 1   ID              45716 non-null  int64  \n",
      " 2   NameType        45716 non-null  object \n",
      " 3   Classification  45716 non-null  object \n",
      " 4   Fall            45716 non-null  object \n",
      " 5   MassWei         13059 non-null  float64\n",
      " 6   YrNo            45424 non-null  float64\n",
      " 7   lat             32187 non-null  float64\n",
      " 8   long            32187 non-null  float64\n",
      "dtypes: float64(4), int64(1), object(4)\n",
      "memory usage: 3.1+ MB\n"
     ]
    }
   ],
   "execution_count": 16
  },
  {
   "metadata": {
    "ExecuteTime": {
     "end_time": "2025-10-05T12:26:06.503660Z",
     "start_time": "2025-10-05T12:26:06.462690Z"
    }
   },
   "cell_type": "code",
   "source": "mod_df.isnull().sum()",
   "id": "8d8844c3fe78087c",
   "outputs": [
    {
     "data": {
      "text/plain": [
       "Name                  0\n",
       "ID                    0\n",
       "NameType              0\n",
       "Classification        0\n",
       "Fall                  0\n",
       "MassWei           32657\n",
       "YrNo                292\n",
       "lat               13529\n",
       "long              13529\n",
       "dtype: int64"
      ]
     },
     "execution_count": 17,
     "metadata": {},
     "output_type": "execute_result"
    }
   ],
   "execution_count": 17
  },
  {
   "metadata": {
    "ExecuteTime": {
     "end_time": "2025-10-05T12:26:07.262507Z",
     "start_time": "2025-10-05T12:26:07.239973Z"
    }
   },
   "cell_type": "code",
   "source": [
    "mod_df = mod_df.dropna(subset=[\"YrNo\", \"lat\" , \"long\"])\n",
    "mod_df[\"YrNo\"] = mod_df[\"YrNo\"].astype(int)\n",
    "mod_df['Decade'] = (mod_df['YrNo'] // 10) * 10\n",
    "\n",
    "mod_df = mod_df[(mod_df['lat'] != 0) & (mod_df['long'] != 0)]"
   ],
   "id": "91ce87b0a036332b",
   "outputs": [],
   "execution_count": 20
  },
  {
   "metadata": {},
   "cell_type": "markdown",
   "source": [
    "Dropping the NaN values in '**YrNo**','**lat**','**long**' because:\n",
    "> No. of missing values in YrNo is very small (0.638726%)\\\n",
    "> Adding artificial values like mean , median or mode can severly skew the data in case of lat and long as the no. of Null values is large (29.59357%)"
   ],
   "id": "f90e324a989d17bb"
  },
  {
   "metadata": {
    "ExecuteTime": {
     "end_time": "2025-10-05T12:26:07.471258Z",
     "start_time": "2025-10-05T12:26:07.440303Z"
    }
   },
   "cell_type": "code",
   "source": "mod_df.info()",
   "id": "5e3400b4ae19c734",
   "outputs": [
    {
     "name": "stdout",
     "output_type": "stream",
     "text": [
      "<class 'pandas.core.frame.DataFrame'>\n",
      "Index: 31813 entries, 0 to 45715\n",
      "Data columns (total 10 columns):\n",
      " #   Column          Non-Null Count  Dtype  \n",
      "---  ------          --------------  -----  \n",
      " 0   Name            31813 non-null  object \n",
      " 1   ID              31813 non-null  int64  \n",
      " 2   NameType        31813 non-null  object \n",
      " 3   Classification  31813 non-null  object \n",
      " 4   Fall            31813 non-null  object \n",
      " 5   MassWei         8591 non-null   float64\n",
      " 6   YrNo            31813 non-null  int64  \n",
      " 7   lat             31813 non-null  float64\n",
      " 8   long            31813 non-null  float64\n",
      " 9   Decade          31813 non-null  int64  \n",
      "dtypes: float64(3), int64(3), object(4)\n",
      "memory usage: 2.7+ MB\n"
     ]
    }
   ],
   "execution_count": 21
  },
  {
   "metadata": {
    "ExecuteTime": {
     "end_time": "2025-10-05T12:26:07.724583Z",
     "start_time": "2025-10-05T12:26:07.717539Z"
    }
   },
   "cell_type": "code",
   "source": "mod_df[\"MassWei_Perkg\"] = mod_df[\"MassWei\"] / 1000",
   "id": "279dfa5cbee0b7b5",
   "outputs": [],
   "execution_count": 23
  },
  {
   "metadata": {},
   "cell_type": "markdown",
   "source": "> Creating a Mass Per Kg column for further insights",
   "id": "895273b1a6c65d9c"
  },
  {
   "metadata": {},
   "cell_type": "markdown",
   "source": "# Analysis\n",
   "id": "50ed2d3ea5130160"
  },
  {
   "metadata": {
    "ExecuteTime": {
     "end_time": "2025-10-05T12:26:07.807435Z",
     "start_time": "2025-10-05T12:26:07.786732Z"
    }
   },
   "cell_type": "code",
   "source": [
    "heaviest_10 = mod_df.sort_values(by='MassWei', ascending=False).head(10)\n",
    "print(\"Top 10 Heaviest Meteorites (All measurements in grams):\")\n",
    "print(heaviest_10[['Name', 'MassWei','MassWei_Perkg']])"
   ],
   "id": "caa6895d4212195",
   "outputs": [
    {
     "name": "stdout",
     "output_type": "stream",
     "text": [
      "Top 10 Heaviest Meteorites (All measurements in grams):\n",
      "                        Name     MassWei  MassWei_Perkg\n",
      "16392                   Hope  60000000.0        60000.0\n",
      "5373            Catalina 011  58200000.0        58200.0\n",
      "5365            Catalina 003  50000000.0        50000.0\n",
      "5370            Catalina 008  30000000.0        30000.0\n",
      "3455              Asuka 8602  28000000.0        28000.0\n",
      "12613      Glorieta Mountain  26000000.0        26000.0\n",
      "5468        Colorado Springs  24300000.0        24300.0\n",
      "26297        Mundrabilla 005  24000000.0        24000.0\n",
      "920                    Sinai  23000000.0        23000.0\n",
      "5016   Bates Nunataks A78005  22000000.0        22000.0\n"
     ]
    }
   ],
   "execution_count": 24
  },
  {
   "metadata": {
    "ExecuteTime": {
     "end_time": "2025-10-05T12:26:07.893988Z",
     "start_time": "2025-10-05T12:26:07.878230Z"
    }
   },
   "cell_type": "code",
   "source": [
    "fall_counts = mod_df['Fall'].value_counts()\n",
    "print(\"Fell vs. Found Counts:\")\n",
    "print(fall_counts)"
   ],
   "id": "5d359d6683e198cd",
   "outputs": [
    {
     "name": "stdout",
     "output_type": "stream",
     "text": [
      "Fell vs. Found Counts:\n",
      "Fall\n",
      "Found    30718\n",
      "Fell      1095\n",
      "Name: count, dtype: int64\n"
     ]
    }
   ],
   "execution_count": 25
  },
  {
   "metadata": {
    "ExecuteTime": {
     "end_time": "2025-10-05T12:26:07.954226Z",
     "start_time": "2025-10-05T12:26:07.943923Z"
    }
   },
   "cell_type": "code",
   "source": [
    "Discovery_Per_Decade = mod_df.groupby('Decade').size()\n",
    "print(\"\\nDiscoveries by Decade:\")\n",
    "print(Discovery_Per_Decade.tail())"
   ],
   "id": "34e59e6a013ce2d9",
   "outputs": [
    {
     "name": "stdout",
     "output_type": "stream",
     "text": [
      "\n",
      "Discoveries by Decade:\n",
      "Decade\n",
      "1970    4739\n",
      "1980    6806\n",
      "1990    9094\n",
      "2000    8090\n",
      "2010     827\n",
      "dtype: int64\n"
     ]
    }
   ],
   "execution_count": 26
  },
  {
   "metadata": {
    "ExecuteTime": {
     "end_time": "2025-10-05T12:26:08.020921Z",
     "start_time": "2025-10-05T12:26:08.008837Z"
    }
   },
   "cell_type": "code",
   "source": [
    "MassMod_df = mod_df[mod_df['MassWei'] > 0]\n",
    "\n",
    "MassWei_PerKg = MassMod_df['MassWei'].to_numpy() / 1000\n",
    "\n",
    "print(f\"\\nMean mass: {np.mean(MassWei_PerKg):.2f} kg\")\n",
    "print(f\"Median mass: {np.median(MassWei_PerKg):.2f} kg\")\n",
    "print(f\"Standard Deviation of mass: {np.std(MassWei_PerKg):.2f} kg\")\n",
    "print(f\"Total mass: {np.sum(MassWei_PerKg):.2f} kg\")\n",
    "print(f\"Max mass: {np.max(MassWei_PerKg):.2f} kg\")\n"
   ],
   "id": "9f6a752652a73ed4",
   "outputs": [
    {
     "name": "stdout",
     "output_type": "stream",
     "text": [
      "\n",
      "Mean mass: 68.73 kg\n",
      "Median mass: 0.46 kg\n",
      "Standard Deviation of mass: 1324.20 kg\n",
      "Total mass: 589198.10 kg\n",
      "Max mass: 60000.00 kg\n"
     ]
    }
   ],
   "execution_count": 27
  },
  {
   "metadata": {
    "ExecuteTime": {
     "end_time": "2025-10-05T12:26:08.134244Z",
     "start_time": "2025-10-05T12:26:08.113907Z"
    }
   },
   "cell_type": "code",
   "source": [
    "Top10_Class= MassMod_df[\"Classification\"].value_counts().nlargest(10).index.tolist()\n",
    "Top10_Class = MassMod_df[MassMod_df['Classification'].isin(Top10_Class)]\n",
    "\n",
    "Avg_Top10_Class = Top10_Class.groupby('Classification')['MassWei'].mean().sort_values(ascending=False)\n",
    "Avg_Top10_Class"
   ],
   "id": "bdf7d7518fb976fc",
   "outputs": [
    {
     "data": {
      "text/plain": [
       "Classification\n",
       "Iron, IIIAB    597724.588745\n",
       "L5              12172.051667\n",
       "H5               9698.411313\n",
       "L4               6912.822511\n",
       "L6               6151.021778\n",
       "H4               5539.623568\n",
       "LL6              4680.209205\n",
       "H6               4155.378806\n",
       "LL5              3890.165179\n",
       "H5/6             1059.663717\n",
       "Name: MassWei, dtype: float64"
      ]
     },
     "execution_count": 28,
     "metadata": {},
     "output_type": "execute_result"
    }
   ],
   "execution_count": 28
  },
  {
   "metadata": {
    "ExecuteTime": {
     "end_time": "2025-10-05T15:28:18.819770Z",
     "start_time": "2025-10-05T15:28:18.795093Z"
    }
   },
   "cell_type": "markdown",
   "source": "---",
   "id": "bf649c2bb7f3b3e3"
  },
  {
   "metadata": {},
   "cell_type": "markdown",
   "source": "# Graph Plotting",
   "id": "90784502a3d4fdc7"
  },
  {
   "metadata": {
    "ExecuteTime": {
     "end_time": "2025-10-05T12:26:09.967921Z",
     "start_time": "2025-10-05T12:26:08.763770Z"
    }
   },
   "cell_type": "code",
   "source": [
    "plt.figure(figsize=(10, 6))\n",
    "sns.histplot(data=MassMod_df, x='MassWei', bins=50, log_scale=True)\n",
    "plt.title('Distribution of Meteorite Mass (Log Scale)')\n",
    "plt.xlabel('Mass (g) - Log Scale')\n",
    "plt.ylabel('Count')\n",
    "plt.show()"
   ],
   "id": "eed9d39d8402a3f7",
   "outputs": [
    {
     "data": {
      "text/plain": [
       "<Figure size 1000x600 with 1 Axes>"
      ],
      "image/png": "[encoded data removed]"
     },
     "metadata": {},
     "output_type": "display_data",
     "jetTransient": {
      "display_id": null
     }
    }
   ],
   "execution_count": 29
  },
  {
   "metadata": {},
   "cell_type": "markdown",
   "source": [
    "- Small Meteorites are Common, Large Ones are Rare: The vast majority of meteorites that strike Earth and are recovered are relatively small. Meteorites weighing many kilograms are exceptionally rare.\n",
    "\n",
    "- Extreme Range: The use of a log scale is necessary to even visualize the data, highlighting the enormous range between the smallest and largest recorded masses, which spans many orders of magnitude."
   ],
   "id": "7d91020b71064020"
  },
  {
   "metadata": {
    "ExecuteTime": {
     "end_time": "2025-10-05T12:26:10.443727Z",
     "start_time": "2025-10-05T12:26:10.106363Z"
    }
   },
   "cell_type": "code",
   "source": [
    "plt.figure(figsize=(8, 5))\n",
    "sns.countplot(data=mod_df, x='Fall')\n",
    "plt.title('Count of Fell vs. Found Meteorites')\n",
    "plt.xlabel('Type of Discovery')\n",
    "plt.ylabel('Count')\n",
    "plt.show()"
   ],
   "id": "2d411fd1ccab39a6",
   "outputs": [
    {
     "data": {
      "text/plain": [
       "<Figure size 800x500 with 1 Axes>"
      ],
      "image/png": "[encoded data removed]"
     },
     "metadata": {},
     "output_type": "display_data",
     "jetTransient": {
      "display_id": null
     }
    }
   ],
   "execution_count": 30
  },
  {
   "metadata": {},
   "cell_type": "markdown",
   "source": [
    "- Most Discoveries are \"Found\": The overwhelming majority of meteorites in scientific collections were discovered on the ground long after they landed.\n",
    "\n",
    "- Observed Falls are Infrequent: It is a rare event for a meteorite to be seen falling (\"Fell\") and then successfully located and recovered. This indicates that most finds are the result of dedicated searches or accidental discoveries, not tracking fireballs in the sky."
   ],
   "id": "f9e2853f5432a6ea"
  },
  {
   "metadata": {
    "ExecuteTime": {
     "end_time": "2025-10-05T12:26:10.928950Z",
     "start_time": "2025-10-05T12:26:10.494740Z"
    }
   },
   "cell_type": "code",
   "source": [
    "plt.figure(figsize=(12, 7))\n",
    "Discovery_Per_Decade.plot(kind='line', marker='o')\n",
    "plt.title('Meteorite Discoveries by Decade')\n",
    "plt.xlabel('Decade')\n",
    "plt.ylabel('Number of Discoveries')\n",
    "plt.xlim(None, 2025)\n",
    "plt.grid(True)\n",
    "plt.show()"
   ],
   "id": "4dbe0cfd47633f4a",
   "outputs": [
    {
     "data": {
      "text/plain": [
       "<Figure size 1200x700 with 1 Axes>"
      ],
      "image/png": "[encoded data removed]"
     },
     "metadata": {},
     "output_type": "display_data",
     "jetTransient": {
      "display_id": null
     }
    }
   ],
   "execution_count": 31
  },
  {
   "metadata": {},
   "cell_type": "markdown",
   "source": [
    "- An Explosion in Discoveries: There has been an exponential increase in meteorite discoveries in modern times.\n",
    "\n",
    "- Impact of Systematic Searches: This trend is heavily driven by the start of systematic meteorite hunting programs, particularly in Antarctica and hot deserts (like the Sahara). In these environments, the dark meteorites are easy to spot against the ice or sand and are well-preserved."
   ],
   "id": "3617ee93346b5ce2"
  },
  {
   "metadata": {
    "ExecuteTime": {
     "end_time": "2025-10-05T12:26:11.508947Z",
     "start_time": "2025-10-05T12:26:10.972223Z"
    }
   },
   "cell_type": "code",
   "source": [
    "plt.figure(figsize=(12, 8))\n",
    "sns.scatterplot(data=mod_df, x='long', y='lat', alpha=0.5, s=10)\n",
    "plt.title('Geographic Distribution of Meteorite Landings')\n",
    "plt.xlabel('Longitude')\n",
    "plt.ylabel('Latitude')\n",
    "plt.xlim(-180, 180)\n",
    "plt.ylim(-90, 90)\n",
    "plt.grid(True)\n",
    "plt.show()"
   ],
   "id": "938b91d02653e0f8",
   "outputs": [
    {
     "data": {
      "text/plain": [
       "<Figure size 1200x800 with 1 Axes>"
      ],
      "image/png": "[encoded data removed]"
     },
     "metadata": {},
     "output_type": "display_data",
     "jetTransient": {
      "display_id": null
     }
    }
   ],
   "execution_count": 32
  },
  {
   "metadata": {},
   "cell_type": "markdown",
   "source": [
    "- Discovery is Biased by Geography: Meteorites do not fall more in certain places, but they are much easier to find in specific locations.\n",
    "\n",
    "- \"Preservation Traps\": You would see major clusters in Antarctica and Northwest Africa (the Sahara Desert). These are ideal hunting grounds because the dry, stable environment preserves the meteorites, and they stand out visually against the uniform background of ice or sand.\n",
    "\n",
    "- Population Bias: You would also see smaller clusters in densely populated regions like Europe and the United States, where there are simply more people to accidentally stumble upon them."
   ],
   "id": "410cc17999c20fb2"
  },
  {
   "metadata": {},
   "cell_type": "code",
   "outputs": [],
   "execution_count": null,
   "source": "",
   "id": "51d92fe09d323c22"
  }
 ],
 "metadata": {
  "kernelspec": {
   "name": "python3",
   "language": "python",
   "display_name": "Python 3 (ipykernel)"
  }
 },
 "nbformat": 4,
 "nbformat_minor": 5
}
